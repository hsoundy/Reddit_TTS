{
 "cells": [
  {
   "cell_type": "code",
   "execution_count": 36,
   "metadata": {},
   "outputs": [
    {
     "name": "stdout",
     "output_type": "stream",
     "text": [
      "Audio written to file \"output.mp3\"\n"
     ]
    }
   ],
   "source": [
    "import os\n",
    "from google.cloud import texttospeech\n",
    "import random\n",
    "\n",
    "os.environ['GOOGLE_APPLICATION_CREDENTIALS'] = 'tts_service_account.json'\n",
    "client = texttospeech.TextToSpeechClient()\n",
    "\n",
    "female_voices=[\"en-US-Chirp3-HD-Achernar\",\n",
    "\"en-US-Chirp3-HD-Aoede\",\n",
    "\"en-US-Chirp3-HD-Autonoe\",\n",
    "\"en-US-Chirp3-HD-Callirrhoe\",\n",
    "\"en-US-Chirp3-HD-Despina\",\n",
    "\"en-US-Chirp3-HD-Erinome\",\n",
    "\"en-US-Chirp3-HD-Gacrux\",\n",
    "\"en-US-Chirp3-HD-Kore\",\n",
    "\"en-US-Chirp3-HD-Laomedeia\",\n",
    "\"en-US-Chirp3-HD-Leda\",\n",
    "\"en-US-Chirp3-HD-Pulcherrima\",\n",
    "\"en-US-Chirp3-HD-Sulafat\",\n",
    "\"en-US-Chirp3-HD-Vindemiatrix\",\n",
    "\"en-US-Chirp3-HD-Zephyr\"\n",
    "]\n",
    "\n",
    "male_voices=[\"en-US-Chirp3-HD-Achird\",\n",
    "\"en-US-Chirp3-HD-Algenib\",\n",
    "\"en-US-Chirp3-HD-Algieba\",\n",
    "\"en-US-Chirp3-HD-Alnilam\",\n",
    "\"en-US-Chirp3-HD-Charon\",\n",
    "\"en-US-Chirp3-HD-Enceladus\",\n",
    "\"en-US-Chirp3-HD-Fenrir\",\n",
    "\"en-US-Chirp3-HD-Iapetus\",\n",
    "\"en-US-Chirp3-HD-Orus\",\n",
    "\"en-US-Chirp3-HD-Puck\",\n",
    "\"en-US-Chirp3-HD-Rasalgethi\",\n",
    "\"en-US-Chirp3-HD-Sadachbia\",\n",
    "\"en-US-Chirp3-HD-Sadaltager\",\n",
    "\"en-US-Chirp3-HD-Schedar\",\n",
    "\"en-US-Chirp3-HD-Umbriel\",\n",
    "\"en-US-Chirp3-HD-Zubenelgenubi\",\n",
    "]\n",
    "\n",
    "\n",
    "def choose_voice(gender):\n",
    "    if gender==\"m\":\n",
    "        choice=random.choice(male_voices)\n",
    "    else:\n",
    "        choice=random.choice(female_voices)\n",
    "    return choice\n",
    "\n",
    "\n",
    "def generate_speech(gender, text, outputFileName):\n",
    "    text_block = text\n",
    "    \n",
    "    synthesis_input = texttospeech.SynthesisInput(text=text_block)\n",
    "\n",
    "    voice = texttospeech.VoiceSelectionParams(\n",
    "        language_code=\"en-us\",\n",
    "        name=choose_voice(gender=gender)\n",
    "    )\n",
    "\n",
    "    audio_config = texttospeech.AudioConfig(\n",
    "        audio_encoding=texttospeech.AudioEncoding.MP3,\n",
    "        effects_profile_id=['small-bluetooth-speaker-class-device']\n",
    "    )\n",
    "\n",
    "    response = client.synthesize_speech(\n",
    "        input=synthesis_input,\n",
    "        voice=voice,\n",
    "        audio_config=audio_config\n",
    "    )\n",
    "\n",
    "    outputFileName = outputFileName+'.mp3'\n",
    "\n",
    "    with open('output.mp3', 'wb') as output:\n",
    "        output.write(response.audio_content)\n",
    "        print(f'Audio written to file \"{outputFileName}\"')\n",
    "\n",
    "generate_speech(\"m\", \"Speech to text test\", \"output\")"
   ]
  }
 ],
 "metadata": {
  "kernelspec": {
   "display_name": "Python 3",
   "language": "python",
   "name": "python3"
  },
  "language_info": {
   "codemirror_mode": {
    "name": "ipython",
    "version": 3
   },
   "file_extension": ".py",
   "mimetype": "text/x-python",
   "name": "python",
   "nbconvert_exporter": "python",
   "pygments_lexer": "ipython3",
   "version": "3.13.7"
  }
 },
 "nbformat": 4,
 "nbformat_minor": 2
}
