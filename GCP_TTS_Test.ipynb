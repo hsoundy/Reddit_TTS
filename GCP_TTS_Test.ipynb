{
 "cells": [
  {
   "cell_type": "code",
   "execution_count": null,
   "metadata": {},
   "outputs": [],
   "source": [
    "import os\n",
    "from google.cloud import texttospeech\n",
    "\n",
    "os.environ['GOOGLE_APPLICATION_CREDENTIALS'] = 'tts_service_account.json'\n",
    "client = texttospeech.TextToSpeechClient()\n",
    "\n",
    "female_voice_1 = 'en-US-Chirp3-HD-Callirrhoe'\n",
    "male_voice_1 = 'en-US-Chirp3-HD-Iapetus'\n",
    "\n",
    "text_block = 'This is the text to be spoken.'\n",
    "\n",
    "synthesis_input = texttospeech.SynthesisInput(text=text_block)\n",
    "\n",
    "voice = texttospeech.VoiceSelectionParams(\n",
    "    language_code=\"en-GB\",\n",
    "    name = male_voice_1\n",
    ")\n",
    "\n",
    "audio_config = texttospeech.AudioConfig(\n",
    "    audio_encoding=texttospeech.AudioEncoding.MP3,\n",
    "    effects_profile_id=['headphone-class-device'],\n",
    "    speaking_rate=1,\n",
    "    pitch=1\n",
    ")\n",
    "\n",
    "response = client.synthesize_speech(\n",
    "    input=synthesis_input,\n",
    "    voice=voice,\n",
    "    audio_config=audio_config\n",
    ")\n"
   ]
  },
  {
   "cell_type": "markdown",
   "metadata": {},
   "source": []
  }
 ],
 "metadata": {
  "kernelspec": {
   "display_name": "Python 3",
   "language": "python",
   "name": "python3"
  },
  "language_info": {
   "codemirror_mode": {
    "name": "ipython",
    "version": 3
   },
   "file_extension": ".py",
   "mimetype": "text/x-python",
   "name": "python",
   "nbconvert_exporter": "python",
   "pygments_lexer": "ipython3",
   "version": "3.13.7"
  }
 },
 "nbformat": 4,
 "nbformat_minor": 2
}
