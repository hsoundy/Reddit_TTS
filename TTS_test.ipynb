{
 "cells": [
  {
   "cell_type": "code",
   "execution_count": null,
   "metadata": {},
   "outputs": [],
   "source": [
    "import gtts\n",
    "from gtts import gTTS\n",
    "from gtts.tokenizer import pre_processors\n",
    "import gtts.tokenizer.symbols\n",
    "import csv\n",
    "\n",
    "with open('SpeechTextReplacements.csv') as csvfile:\n",
    "    rows = csv.reader(csvfile)\n",
    "    abbrs = []\n",
    "    for i in rows:\n",
    "        abbrs.append(tuple(i))\n",
    "\n",
    "for i in abbrs:\n",
    "    gtts.tokenizer.symbols.SUB_PAIRS.append(i)\n",
    "\n",
    "\n",
    "tts = gTTS('hello, sub., OP, OOP, abbr', lang=\"en\", tld=\"us\")\n",
    "tts.save('test_speech.mp3')\n"
   ]
  }
 ],
 "metadata": {
  "kernelspec": {
   "display_name": "Python 3",
   "language": "python",
   "name": "python3"
  },
  "language_info": {
   "codemirror_mode": {
    "name": "ipython",
    "version": 3
   },
   "file_extension": ".py",
   "mimetype": "text/x-python",
   "name": "python",
   "nbconvert_exporter": "python",
   "pygments_lexer": "ipython3",
   "version": "3.13.7"
  }
 },
 "nbformat": 4,
 "nbformat_minor": 2
}
